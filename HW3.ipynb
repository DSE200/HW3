{
 "cells": [
  {
   "cell_type": "markdown",
   "metadata": {},
   "source": [
    "# MAS DSE 200: Homework 3 - Matplotlib\n",
    "\n",
    "#### Tasks: \n",
    "\n",
    "- Introduction to Matplotlib.  \n",
    "  \n",
    "- Submission on Gradescope:\n",
    "  - Submit this Jupyter notebook to \"Homework 3\"\n",
    "\n",
    "#### Due date: Thursday, November 6, 2025, 11:59 PM\n",
    "\n",
    "---\n",
    "\n",
    "Remember: when in doubt, read the documentation first.\n",
    "\n",
    "Python - https://docs.python.org/3/\n",
    "\n",
    "NumPy - https://numpy.org/doc/stable/\n",
    "\n",
    "pandas - https://pandas.pydata.org/docs/\n",
    "\n",
    "matplotlib - https://matplotlib.org/stable/contents.html\n",
    "\n",
    "seaborn - https://seaborn.pydata.org/api.html"
   ]
  },
  {
   "cell_type": "markdown",
   "metadata": {},
   "source": [
    "## Instructions\n",
    "\n",
    "* You don’t need to explain your approach (unless specified) so please be concise in your submission. \n",
    "* To obtain full marks for a question, both the answer and the code should be correct. \n",
    "* Completely wrong (or missing) code with correct answer will result in zero marks."
   ]
  },
  {
   "cell_type": "markdown",
   "metadata": {},
   "source": [
    "### Imports"
   ]
  },
  {
   "cell_type": "code",
   "execution_count": null,
   "metadata": {},
   "outputs": [],
   "source": [
    "%pip install pandas numpy matplotlib seaborn scikit-learn"
   ]
  },
  {
   "cell_type": "code",
   "execution_count": null,
   "metadata": {},
   "outputs": [],
   "source": [
    "import pandas as pd\n",
    "import numpy as np\n",
    "import random\n",
    "import os\n",
    "import requests\n",
    "import matplotlib.pyplot as plt\n",
    "import seaborn as sns"
   ]
  },
  {
   "cell_type": "markdown",
   "metadata": {},
   "source": [
    "### Preliminaries\n",
    "\n",
    "Load the cars data into a Pandas DataFrame called cars_df."
   ]
  },
  {
   "cell_type": "code",
   "execution_count": null,
   "metadata": {},
   "outputs": [],
   "source": [
    "thePath = \"./\"\n",
    "theFile = 'cars.csv'\n",
    "theLink = \"https://dse200.dev/Day3/cars.csv\"\n",
    "\n",
    "if not os.path.exists(thePath + theFile):\n",
    "    r = requests.get(theLink)\n",
    "    with open(thePath + theFile, 'wb') as f:\n",
    "        f.write(r.content)\n",
    "\n",
    "cars_df = pd.read_csv('cars.csv')"
   ]
  },
  {
   "cell_type": "code",
   "execution_count": null,
   "metadata": {},
   "outputs": [],
   "source": [
    "len(cars_df)"
   ]
  },
  {
   "cell_type": "code",
   "execution_count": null,
   "metadata": {},
   "outputs": [],
   "source": [
    "cars_df.head()"
   ]
  },
  {
   "cell_type": "markdown",
   "metadata": {},
   "source": [
    "### 1. Inspect data - 1 point\n",
    "\n",
    "1.1 What is the number of unique car identifiers (`Identification.ID`)? - 0.5 points"
   ]
  },
  {
   "cell_type": "code",
   "execution_count": null,
   "metadata": {},
   "outputs": [],
   "source": [
    "# YOUR CODE HERE"
   ]
  },
  {
   "cell_type": "markdown",
   "metadata": {},
   "source": [
    "1.2 What is the number of unique entries in the dataset when jointly looking at `Identification.ID` AND `Identification.Year`? Note that this should be greater than the value obtained before - 0.5 points"
   ]
  },
  {
   "cell_type": "code",
   "execution_count": null,
   "metadata": {},
   "outputs": [],
   "source": [
    "# YOUR CODE HERE"
   ]
  },
  {
   "cell_type": "code",
   "execution_count": null,
   "metadata": {},
   "outputs": [],
   "source": [
    "assert unique_ids_and_years > unique_ids"
   ]
  },
  {
   "cell_type": "markdown",
   "metadata": {},
   "source": [
    "### 2. Distribution of data - 3 points\n",
    "a) Plot a distribution(histogram) of Highway fuel economy(`Fuel Information.Highway mpg`). Overlay this plot with a density plot of the same quantity - 2 points\n",
    "\n",
    "Note:\n",
    "1. Each value must have its own bin (Hint - use `range`) and should occupy the entire width of the plot\n",
    "2. Each bar of the histogram should be blue and separated by black border(Hint - look at `ec` parameter of matplotlib's histogram API)\n",
    "3. The overlaying density line should be orange"
   ]
  },
  {
   "cell_type": "code",
   "execution_count": null,
   "metadata": {},
   "outputs": [],
   "source": [
    "from scipy.stats import gaussian_kde\n"
   ]
  },
  {
   "cell_type": "code",
   "execution_count": null,
   "metadata": {},
   "outputs": [],
   "source": [
    "# YOUR CODE HERE\n",
    "\n"
   ]
  },
  {
   "cell_type": "markdown",
   "metadata": {},
   "source": [
    "b) Repeate the same for city fuel economy(`Fuel Information.City mpg`) - 0.5 point\n",
    "\n",
    "(Subjective)(Optional) Is this plot similar to the previous one? Approximately, how much is city fuel economy lower compared to highway fuel economy?"
   ]
  },
  {
   "cell_type": "code",
   "execution_count": null,
   "metadata": {},
   "outputs": [],
   "source": [
    "# YOUR CODE HERE\n"
   ]
  },
  {
   "cell_type": "markdown",
   "metadata": {},
   "source": [
    "c) Repeat the same for Engine Horsepower(`Engine Information.Engine Statistics.Horsepower`) - 0.5 points\n",
    "\n",
    "Note:\n",
    "\n",
    "1. Use appropriate `bins`, since the range of horsepower is much higher than fuel economy. Hint - Try bin size of `10` or `20`\n",
    "2. Experiment with different colors from 1 (a)\n"
   ]
  },
  {
   "cell_type": "code",
   "execution_count": null,
   "metadata": {},
   "outputs": [],
   "source": [
    "# YOUR CODE HERE"
   ]
  },
  {
   "cell_type": "markdown",
   "metadata": {},
   "source": [
    "### 3. Correlation - 3 points"
   ]
  },
  {
   "cell_type": "markdown",
   "metadata": {},
   "source": [
    "3.1 Plot a scatter plot, overlayed with a *line of best fit* plot, of engine horsepower vs highway fuel economy - 2 point\n",
    "\n",
    "* The x-axis is engine power\n",
    "* The y-axis is fuel economy\n",
    "* Lable the axes appropriately\n",
    "* Add an appropriate title\n",
    "* Use [`np.polyfit`](https://numpy.org/doc/stable/reference/generated/numpy.polyfit.html) or any other method/library to plot the line of best fit\n",
    "\n",
    "* Hint - The resulting plot should look similar to [this](https://en.wikipedia.org/wiki/Simple_linear_regression#/media/File:Okuns_law_quarterly_differences.svg)\n",
    "\n",
    "Reference  -[`Simple linear regression`](https://en.wikipedia.org/wiki/Simple_linear_regression)\n",
    "\n",
    "You do not have to worry about the details of linear regression here. You can use any library function to do it for you"
   ]
  },
  {
   "cell_type": "code",
   "execution_count": null,
   "metadata": {},
   "outputs": [],
   "source": [
    "# YOUR CODE HERE\n"
   ]
  },
  {
   "cell_type": "markdown",
   "metadata": {},
   "source": [
    "3.2 You might notice in the previous plot that there is an outlier(porbably an error) in fuel economy. Repate the plot after removing the outlier point - 0.5 points\n",
    "\n",
    "(Optional)(Subjective) What can you tell about the correlation between engine horsepower and fuel economy?"
   ]
  },
  {
   "cell_type": "code",
   "execution_count": null,
   "metadata": {},
   "outputs": [],
   "source": [
    "# YOUR CODE HERE\n",
    "\n"
   ]
  },
  {
   "cell_type": "markdown",
   "metadata": {},
   "source": [
    "3.3 Repeat the same for engine horsepower(x-axis) and engine torque(y-axis) - 0.5 point\n",
    "\n",
    "Optional)(Subjective) What can you tell about the correlation between engine horsepower and engine torque?"
   ]
  },
  {
   "cell_type": "code",
   "execution_count": null,
   "metadata": {},
   "outputs": [],
   "source": [
    "# YOUR CODE HERE"
   ]
  },
  {
   "cell_type": "markdown",
   "metadata": {},
   "source": [
    "### 4. Subplots - 3 points\n",
    "\n",
    "* Create a 2 x 2 subplots of the following plots. Make sure the entire plot is sufficiently large(Hint - check [`rcParams`](https://matplotlib.org/stable/tutorials/introductory/customizing.html) )\n",
    "    * Box plot of highway fuel economiy(Note the extreme outlier. You may optionally remove it before plotting it. Both are acceptable solutions) - 0.5 points\n",
    "    * Pie chart of Model year(`Identification.Year`) - 0.5 points\n",
    "    * Histogram of Length(`Dimensions.Length`) with appropriate bins - 0.5 points\n",
    "    * Scatter-plot of Length vs Width(`Dimensions.Width`) with marker size representing engine horsepower - 0.5 point\n",
    "* Subplot and appropriate labelling - 1 point\n",
    "* The order of the plots does not matter"
   ]
  },
  {
   "cell_type": "code",
   "execution_count": null,
   "metadata": {},
   "outputs": [],
   "source": [
    "# YOUR CODE HERE\n"
   ]
  },
  {
   "cell_type": "markdown",
   "metadata": {},
   "source": [
    "### 5. Heatmap - 3 points\n",
    "\n",
    "* Create a heatmap of \"Make of the car\" vs \"year+transmission type\" for \"number of models for that year\"\n",
    "    * Pick the top 8 car manufactutres (`Identification.Make`) by number of cars produced - x-axis\n",
    "    * Use a combination of model year and transmission type on y-axis.\n",
    "        * All entries with Automatic transmission should be renamed to \"AT\" and manual to \"MT\"\n",
    "        * Each entry on the Y-axis should look like \"2009-AT\" representing the model year 2009 and Automatic transmission type\n",
    "        * This will require some pre-processing with pandas before plotting the heatmap\n",
    "    * Create a heatmap where each data point shows the number of such models created\n",
    "    * The heatmap should be of size 8x8, with top 8 manufactutres on x-axis and 8 combinations(4 years and 2 transmission types) of year-transmission on y-axis"
   ]
  },
  {
   "cell_type": "code",
   "execution_count": null,
   "metadata": {},
   "outputs": [],
   "source": [
    "# YOUR CODE HERE"
   ]
  },
  {
   "cell_type": "markdown",
   "metadata": {},
   "source": [
    "### 6. Pair-plots (Seaborn) - 2 points\n",
    "* Create a pair-plot of the following columns: length, width, highway fuel economy, city fuel economy, engine power, engine torque\n",
    "* Which of the pairs show a positive correlation? Which of the pairs show a negative correlation? "
   ]
  },
  {
   "cell_type": "code",
   "execution_count": null,
   "metadata": {},
   "outputs": [],
   "source": [
    "# YOUR CODE HERE"
   ]
  }
 ],
 "metadata": {
  "anaconda-cloud": {},
  "kernelspec": {
   "display_name": "Python 3",
   "language": "python",
   "name": "python3"
  },
  "language_info": {
   "codemirror_mode": {
    "name": "ipython",
    "version": 3
   },
   "file_extension": ".py",
   "mimetype": "text/x-python",
   "name": "python",
   "nbconvert_exporter": "python",
   "pygments_lexer": "ipython3",
   "version": "3.11.2"
  }
 },
 "nbformat": 4,
 "nbformat_minor": 4
}
